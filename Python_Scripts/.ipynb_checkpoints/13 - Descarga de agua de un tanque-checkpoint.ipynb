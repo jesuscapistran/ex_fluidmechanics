{
 "cells": [
  {
   "cell_type": "markdown",
   "id": "c12ac8e0",
   "metadata": {},
   "source": [
    "## Ejercicio 5-2  Descarga de agua de un tanque \n",
    "\n",
    "Un tanque cilíndrico de agua con 4 ft de alto y 3 ft de diámetro cuya parte superior está abierta a la atmósfera está al principio lleno con agua. Ahora, se quita el tapón de descarga que está cerca del fondo del tanque cuyo diámetro es de 0.5 in y un chorro de agua se vierte hacia fuera (Fig. 5-13). La velocidad promedio del chorro se da por $V = \\sqrt{2gh}$, en donde h es la altura del agua en el tanque medida desde el centro del agujero (una variable) y g es la aceleración gravitacional. Determínese cuánto tiempo transcurrirá para que el nivel del agua en el tanque descienda hasta 2 ft, medido desde el fondo.\n",
    "\n",
    "Aplicar conservación de la masa: \n",
    "\n",
    "$$  \\frac{d m_{vc}}{dt} = \\dot{m}_{ent} -  \\dot{m}_{sal} $$\n",
    "\n",
    "\n",
    "a) No existe entrada de agua al deposito  (Ecuación a resolver)\n",
    "\n",
    "$$  \\frac{d m_{vc}}{dt} = -  \\dot{m}_{sal} $$\n",
    "\n",
    "b) La podemos escribir de la siguiente manera: \n",
    "\n",
    "$$  dt = - \\frac{1}{\\dot{m}_{sal}} dm_{vc}  $$"
   ]
  },
  {
   "cell_type": "code",
   "execution_count": 1,
   "id": "31c4fa1c",
   "metadata": {},
   "outputs": [],
   "source": [
    "# Importar librerias \n",
    "import numpy as np\n",
    "import matplotlib.pyplot as plt \n"
   ]
  },
  {
   "cell_type": "code",
   "execution_count": 2,
   "id": "2a59cb84",
   "metadata": {},
   "outputs": [],
   "source": [
    "# Declarar constantes \n",
    "\n",
    "g          = 32.2         # [ft/s] Aceleración de la gravedad \n",
    "D_tanque   = 3            # [ft]\n",
    "D_tanque   = D_tanque*12  # [in]\n",
    "D_orificio = 0.5          # [in] \n"
   ]
  },
  {
   "cell_type": "code",
   "execution_count": 3,
   "id": "6e84701c",
   "metadata": {},
   "outputs": [],
   "source": [
    "# Calculo de Area_tanque  y Area_orificio \n",
    "\n",
    "A_tanque   = np.pi*(D_tanque**2)/4    #[in^2]\n",
    "A_orificio = np.pi*(D_orificio**2)/4  #[in^2]\n"
   ]
  },
  {
   "cell_type": "markdown",
   "id": "5cc971e1",
   "metadata": {},
   "source": [
    "## Analisis de la ecuación \n",
    "\n",
    "$$  d m_{vc} = -  \\dot{m}_{sal} dt $$\n",
    "\n",
    "- $m_{vc} = \\rho Vol = \\rho A_{tanque} h $\n",
    "- $\\dot{m}_{sal} = \\rho V_{sal} A_{orificio} $\n",
    "\n",
    "Recordemos que la densidad del agua es constante , en otras palabras es un fluido incompresible. \n",
    "\n",
    "\n",
    "$$ d(\\rho A_{tanque} h)  = - (\\rho V_{sal} A_{orificio}) dt $$\n",
    "\n",
    "- Se cancela $\\rho$ \n",
    "- Se agrega $V_{sal} = \\sqrt{2gh} $\n",
    "\n",
    "$$ A_{tanque}dh  = - \\sqrt{2gh} A_{orificio} dt $$\n",
    "\n",
    "Se reacomoda la ecuación  despejando dt: \n",
    "\n",
    "$$ dt = - \\frac{A_{tanque}}{A_{orificio}}\\frac{1}{\\sqrt{2gh}} dh  $$\n",
    "\n",
    "$$ dt = - \\frac{A_{tanque}}{A_{orificio}}\\frac{1}{\\sqrt{2g}} \\frac{1}{\\sqrt{h}} dh  $$\n",
    "\n"
   ]
  },
  {
   "cell_type": "code",
   "execution_count": 37,
   "id": "2b408593",
   "metadata": {},
   "outputs": [],
   "source": [
    "# Como varia la velodad  velocidad = \\sqrt(2gh)\n",
    "\n",
    "#- Numpy = definir un vector velocidad  \n",
    "#- Vector h = 0 - 4 ft , 100 especios. \n",
    "\n",
    "h = np.linspace(0,4,150);\n"
   ]
  },
  {
   "cell_type": "markdown",
   "id": "e889b8a1",
   "metadata": {},
   "source": [
    "## Integrar de posición 1 a 2"
   ]
  },
  {
   "cell_type": "code",
   "execution_count": 41,
   "id": "65c43217",
   "metadata": {},
   "outputs": [
    {
     "data": {
      "text/plain": [
       "array([43.06562953, 39.5375557 , 38.07617966, 36.95482639, 36.00948186,\n",
       "       35.1766166 , 34.42364885, 33.73122355, 33.08672979, 32.48140802,\n",
       "       31.90888045, 31.36433238, 30.84402325, 30.3449784 , 29.86478599,\n",
       "       29.40145831, 28.95333418, 28.51900844, 28.09727992, 27.6871122 ,\n",
       "       27.28760367, 26.89796411, 26.5174964 , 26.1455818 , 25.78166817,\n",
       "       25.42526034, 25.07591218, 24.73322011, 24.39681756, 24.06637046,\n",
       "       23.74157327, 23.42214574, 23.10783004, 22.79838834, 22.4936007 ,\n",
       "       22.19326322, 21.8971865 , 21.60519418, 21.31712176, 21.03281547,\n",
       "       20.75213136, 20.47493442, 20.20109782, 19.93050222, 19.66303522,\n",
       "       19.39859073, 19.13706855, 18.87837389, 18.62241697, 18.36911266,\n",
       "       18.11838017, 17.87014272, 17.62432727, 17.38086429, 17.13968749,\n",
       "       16.90073367, 16.66394245, 16.42925617, 16.19661967, 15.96598017,\n",
       "       15.73728709, 15.51049198, 15.28554834, 15.06241158, 14.84103882,\n",
       "       14.62138889, 14.40342217, 14.18710056, 13.97238735, 13.75924719,\n",
       "       13.54764602, 13.33755095, 13.1289303 , 12.92175344, 12.7159908 ,\n",
       "       12.51161382, 12.30859487, 12.10690724, 11.90652507, 11.70742333,\n",
       "       11.5095778 , 11.31296498, 11.11756212, 10.92334716, 10.73029868,\n",
       "       10.53839593, 10.34761873, 10.15794751,  9.96936326,  9.7818475 ,\n",
       "        9.59538228,  9.40995013,  9.22553407,  9.04211757,  8.85968456,\n",
       "        8.67821939,  8.49770681,  8.31813198,  8.13948043,  7.96173806,\n",
       "        7.78489114,  7.60892627,  7.43383037,  7.25959071,  7.08619483,\n",
       "        6.91363061,  6.74188618,  6.57094997,  6.40081068,  6.23145727,\n",
       "        6.06287894,  5.89506515,  5.72800559,  5.56169019,  5.39610907,\n",
       "        5.23125262,  5.06711138,  4.90367614,  4.74093786,  4.5788877 ,\n",
       "        4.41751701,  4.2568173 ,  4.09678029,  3.93739782,  3.77866195,\n",
       "        3.62056486,  3.46309891,  3.30625659,  3.15003056,  2.99441359,\n",
       "        2.83939864,  2.68497876,  2.53114715,  2.37789715,  2.22522219,\n",
       "        2.07311586,  1.92157186,  1.77058398,  1.62014616,  1.47025242,\n",
       "        1.32089691,  1.17207386,  1.02377762,  0.87600264,  0.72874346,\n",
       "        0.58199472,  0.43575114,  0.29000754,  0.14475883,  0.        ])"
      ]
     },
     "execution_count": 41,
     "metadata": {},
     "output_type": "execute_result"
    }
   ],
   "source": [
    "#Introducimos la ecuación evaluada desde (t=0, h=4 ft)  a (t=t , h = 0) \n",
    "h_inicial = 4 # [ft]\n",
    "h_variable = h # Varia de 4 ft a 0 ft \n",
    "\n",
    "t = ((np.sqrt(h_inicial)- np.sqrt(h_variable))/(np.sqrt(g/2))) * (D_tanque/D_orificio)**2\n",
    "t_min = t/60\n",
    "\n",
    "t_min"
   ]
  },
  {
   "cell_type": "code",
   "execution_count": 40,
   "id": "eddb9da7",
   "metadata": {},
   "outputs": [
    {
     "data": {
      "image/png": "[encoded data removed]",
      "text/plain": [
       "<Figure size 432x288 with 1 Axes>"
      ]
     },
     "metadata": {
      "needs_background": "light"
     },
     "output_type": "display_data"
    }
   ],
   "source": [
    "plt.plot(t_min, h_variable)\n",
    "\n",
    "plt.plot(0, 4, marker=\"^\", color ='red')\n",
    "plt.plot(12.6, 2, marker=\"^\", color ='red')\n",
    "plt.plot(43.06, 0, marker=\"^\", color ='red')\n",
    "\n",
    "plt.xlabel('Tiempo [min]')\n",
    "plt.ylabel('Altura [ft]')\n",
    "plt.title('Tiempo de vaciado a velocidad (2gh)^(1/2)')\n",
    "plt.grid()\n",
    "plt.show()"
   ]
  },
  {
   "cell_type": "code",
   "execution_count": null,
   "id": "9960de9c",
   "metadata": {},
   "outputs": [],
   "source": []
  }
 ],
 "metadata": {
  "kernelspec": {
   "display_name": "Python 3",
   "language": "python",
   "name": "python3"
  },
  "language_info": {
   "codemirror_mode": {
    "name": "ipython",
    "version": 3
   },
   "file_extension": ".py",
   "mimetype": "text/x-python",
   "name": "python",
   "nbconvert_exporter": "python",
   "pygments_lexer": "ipython3",
   "version": "3.8.8"
  }
 },
 "nbformat": 4,
 "nbformat_minor": 5
}

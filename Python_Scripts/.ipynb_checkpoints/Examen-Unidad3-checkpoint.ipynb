{
 "cells": [
  {
   "cell_type": "markdown",
   "id": "557c16b5",
   "metadata": {},
   "source": [
    "## 12.\tDe acuerdo a la siguiente imagen obtenga la GE (Densidad relativa) del fluido manometrico. \n",
    "\n",
    "<img src=\"img/Question12.png\">\n"
   ]
  },
  {
   "cell_type": "code",
   "execution_count": 1,
   "id": "d0f97ae8",
   "metadata": {},
   "outputs": [],
   "source": [
    "# Importar librerias"
   ]
  },
  {
   "cell_type": "code",
   "execution_count": 32,
   "id": "029842d5",
   "metadata": {},
   "outputs": [],
   "source": [
    "#Declarar constantes  y revisión de unidades\n",
    "\n",
    "h     = 0.55     # [m]             =    55 cm\n",
    "P_atm = 96e3     # [Pas = 1 N/m2]  =    96 kPas\n",
    "P     = 110e3    # [Pas= 1 N/m2]   =   110 kPas\n",
    "g     = 9.81     # [m/s2]\n",
    "rho_agua = 1000  # [kg/m3]\n",
    "#GE    = 0.85  "
   ]
  },
  {
   "cell_type": "markdown",
   "id": "c856bd55",
   "metadata": {},
   "source": [
    "## Ecuación a desarrollar\n",
    "\n",
    "$$ P - \\rho g h = P_{atm} $$\n",
    "\n",
    "$$ \\rho g h = P - P_{atm} $$\n",
    "\n",
    "$$ \\rho = \\frac{P - P_{atm}}{g h} $$"
   ]
  },
  {
   "cell_type": "code",
   "execution_count": 33,
   "id": "40b2ad66",
   "metadata": {},
   "outputs": [],
   "source": [
    "# Densidad del fluido manometrico\n",
    "rho = (P-P_atm)/(g*h)   # (N/m2)/(m/s2 *m ) = (N/m2)/(m2/s2) = N/s2\n",
    "\n",
    "# Densidad relativa \n",
    "\n",
    "GE = round(rho/rho_agua, 2) \n"
   ]
  },
  {
   "cell_type": "code",
   "execution_count": 34,
   "id": "1b5f1898",
   "metadata": {},
   "outputs": [
    {
     "name": "stdout",
     "output_type": "stream",
     "text": [
      "Le densidad relativa es: 2.59\n"
     ]
    }
   ],
   "source": [
    "print(f'Le densidad relativa es: {GE}')"
   ]
  },
  {
   "cell_type": "code",
   "execution_count": 19,
   "id": "23a791a6",
   "metadata": {},
   "outputs": [],
   "source": [
    "#P = P_atm + (rho_agua*GE)*g*h \n"
   ]
  },
  {
   "cell_type": "code",
   "execution_count": null,
   "id": "27ef4cb1",
   "metadata": {},
   "outputs": [],
   "source": []
  }
 ],
 "metadata": {
  "kernelspec": {
   "display_name": "Python 3",
   "language": "python",
   "name": "python3"
  },
  "language_info": {
   "codemirror_mode": {
    "name": "ipython",
    "version": 3
   },
   "file_extension": ".py",
   "mimetype": "text/x-python",
   "name": "python",
   "nbconvert_exporter": "python",
   "pygments_lexer": "ipython3",
   "version": "3.8.8"
  }
 },
 "nbformat": 4,
 "nbformat_minor": 5
}

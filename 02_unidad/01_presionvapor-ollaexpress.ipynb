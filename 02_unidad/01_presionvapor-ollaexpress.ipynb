{
 "cells": [
  {
   "cell_type": "markdown",
   "id": "f6ef4f42-1e64-478f-a5c8-0fc50f7cfc94",
   "metadata": {},
   "source": [
    "# Funcionamiento de una Olla a Presión \n",
    "\n",
    "En una olla a presión podemos conseguir que la temperatura de cocción supere los $100 \\:ºC$, cosa que no ocurriría a presión atmosférica, ya que ha esta temperatura el agua comenzaría a hervir. \n",
    "\n",
    "- La ley de Gay Lussac establece que la presión de un volumen fijo de un gas, es directamente proporcional a su temperatura. Ejemplo:  si mantenemos un volumen constante, al aumentar la presión aumentamos la temperatura.\n",
    "\n",
    "$$P = kT$$\n",
    "$$ P/T = k$$\n",
    "\n",
    "por lo tanto \n",
    "\n",
    "$$\\frac{P_1}{T_1} = \\frac{P_2}{T_2} $$\n",
    "\n",
    "## ¿Cual es la temperatura al interior de la olla express a la presión máxima de operación? \n",
    "\n",
    "$$ T_2 = \\frac{T_1P_2}{P_1}$$\n",
    "\n",
    "- $P_1 = 101.33 \\: kPas$\n",
    "- $T_1 = 100 \\:ºC$ \n",
    "- $P_2 = 150 \\:kPas$ \n",
    "- $T_2 = T_{satmax}$\n"
   ]
  },
  {
   "cell_type": "code",
   "execution_count": 137,
   "id": "63a1ae46-d08f-4a2e-bd1c-9ed7723abd1d",
   "metadata": {},
   "outputs": [],
   "source": [
    "import numpy as np\n",
    "import matplotlib.pyplot as plt"
   ]
  },
  {
   "cell_type": "code",
   "execution_count": 182,
   "id": "2e22d173-e4c1-4ec6-a943-10d1c1d59a1d",
   "metadata": {},
   "outputs": [],
   "source": [
    "#Define las constantes \n",
    "\n",
    "P1 = 101.33;     # [kPas] Presión de vapor \n",
    "T1 = 100;        # [ºC] Se debe convertir a K \n",
    "P2 = 150;     # [kPas] P2 = Patm + Pinterna = Psaturacion"
   ]
  },
  {
   "cell_type": "code",
   "execution_count": 183,
   "id": "c68fbabc-ae93-428c-9a61-dd60d285ddef",
   "metadata": {},
   "outputs": [
    {
     "data": {
      "text/plain": [
       "148.03"
      ]
     },
     "execution_count": 183,
     "metadata": {},
     "output_type": "execute_result"
    }
   ],
   "source": [
    "# ¿Cuál es la temperatura Máxima dentro de la olla express?\n",
    "\n",
    "T2 = T1*(P2/P1);\n",
    "T2 = round(T2,2)\n",
    "T2"
   ]
  },
  {
   "cell_type": "markdown",
   "id": "5ffc8c9e-4e6a-4c2b-afd3-8d5108d59db6",
   "metadata": {},
   "source": [
    "# Presión de vapor del agua en función de la temperatura\n",
    "\n",
    "Aproximación de la presión de saturación del agua - http://laplace.us.es/wiki/index.php/Propiedades_del_agua \n",
    "\n",
    "$$ P_{sat} = 0.6194\\exp\\left(\\frac{17.625 T}{T + 243.04}\\right)$$\n",
    "\n",
    "- $P_{sat} [kPas] $ presion de saturación\n",
    "- $T [ºC]$\n"
   ]
  },
  {
   "cell_type": "code",
   "execution_count": 191,
   "id": "e1eee34a-0e02-45f4-b9a1-f04189c5049a",
   "metadata": {},
   "outputs": [],
   "source": [
    "temperatura = np.linspace(100, 150, 40); # Al calentar podemos variar la temperatura"
   ]
  },
  {
   "cell_type": "code",
   "execution_count": 192,
   "id": "2c9ade2e-fc59-4f0b-9905-70d8fefdbcac",
   "metadata": {},
   "outputs": [],
   "source": [
    "presion = 0.6194*np.exp((17.625*temperatura)/(temperatura + 243.04))\n"
   ]
  },
  {
   "cell_type": "code",
   "execution_count": 193,
   "id": "92321a8d-8756-498b-9bc5-8562681ae6eb",
   "metadata": {},
   "outputs": [
    {
     "data": {
      "image/png": "[encoded data removed]",
      "text/plain": [
       "<Figure size 432x288 with 1 Axes>"
      ]
     },
     "metadata": {
      "needs_background": "light"
     },
     "output_type": "display_data"
    }
   ],
   "source": [
    "plt.plot(temperatura,presion, \"bo\")\n",
    "plt.plot(temperatura,presion, \"r\")\n",
    "plt.grid()\n",
    "plt.xlabel('Temperatura $[\\degree C]$')\n",
    "plt.ylabel('Presión $[kPas]$')\n",
    "plt.title('Presión de vapor en olla express')\n",
    "plt.show()"
   ]
  },
  {
   "cell_type": "code",
   "execution_count": null,
   "id": "a1b8eed0-00f5-46c0-bc51-9e7f06ff119d",
   "metadata": {},
   "outputs": [],
   "source": []
  }
 ],
 "metadata": {
  "kernelspec": {
   "display_name": "Python 3",
   "language": "python",
   "name": "python3"
  },
  "language_info": {
   "codemirror_mode": {
    "name": "ipython",
    "version": 3
   },
   "file_extension": ".py",
   "mimetype": "text/x-python",
   "name": "python",
   "nbconvert_exporter": "python",
   "pygments_lexer": "ipython3",
   "version": "3.8.8"
  }
 },
 "nbformat": 4,
 "nbformat_minor": 5
}

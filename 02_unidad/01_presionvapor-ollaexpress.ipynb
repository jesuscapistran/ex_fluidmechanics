{
  "nbformat": 4,
  "nbformat_minor": 5,
  "metadata": {
    "kernelspec": {
      "display_name": "Python 3",
      "language": "python",
      "name": "python3"
    },
    "language_info": {
      "codemirror_mode": {
        "name": "ipython",
        "version": 3
      },
      "file_extension": ".py",
      "mimetype": "text/x-python",
      "name": "python",
      "nbconvert_exporter": "python",
      "pygments_lexer": "ipython3",
      "version": "3.8.8"
    },
    "colab": {
      "name": "01_presionvapor-ollaexpress.ipynb",
      "provenance": [],
      "collapsed_sections": []
    }
  },
  "cells": [
    {
      "cell_type": "markdown",
      "metadata": {
        "id": "f6ef4f42-1e64-478f-a5c8-0fc50f7cfc94"
      },
      "source": [
        "# Benemérita Universidad Autónoma de Puebla \n",
        "\n",
        "*   Prof: Dr. Jesús Capistrán\n",
        "*   Alumno: Nombre Apellido \n",
        "*   Fecha:  14 Sep 2021\n",
        "\n",
        "\n",
        "\n",
        "\n",
        "## Funcionamiento de una Olla a Presión \n",
        "\n",
        "En una olla a presión podemos conseguir que la temperatura de cocción supere los $100 \\:ºC$, cosa que no ocurriría a presión atmosférica, ya que ha esta temperatura el agua comenzaría a hervir. \n",
        "\n",
        "- La ley de Gay Lussac establece que la presión de un volumen fijo de un gas, es directamente proporcional a su temperatura. Ejemplo:  si mantenemos un volumen constante, al aumentar la presión aumentamos la temperatura.\n",
        "\n",
        "$$P = kT$$\n",
        "$$ P/T = k$$\n",
        "\n",
        "por lo tanto \n",
        "\n",
        "$$\\frac{P_1}{T_1} = \\frac{P_2}{T_2} $$\n",
        "\n",
        "## ¿Cual es la temperatura al interior de la olla express a la presión máxima de operación? \n",
        "\n",
        "$$ T_2 = \\frac{T_1P_2}{P_1}$$\n",
        "\n",
        "- $P_1 = 101.33 \\: kPas$\n",
        "- $T_1 = 100 \\:ºC$ \n",
        "- $P_2 = 150 \\:kPas$ \n",
        "- $T_2 = T_{sat}$\n",
        "\n",
        "Nota: Se realizará la corrección de unidades para temperatura, de acuerdo a nuestra compañera de clase. La ley de estado de gases ideales y ley de Gay Lussac utiliza temperaturas absolutas (grados K)."
      ],
      "id": "f6ef4f42-1e64-478f-a5c8-0fc50f7cfc94"
    },
    {
      "cell_type": "code",
      "metadata": {
        "id": "63a1ae46-d08f-4a2e-bd1c-9ed7723abd1d"
      },
      "source": [
        "# Importar librerias python que seran utilizadas en este codigo\n",
        "import numpy as np\n",
        "import matplotlib.pyplot as plt"
      ],
      "id": "63a1ae46-d08f-4a2e-bd1c-9ed7723abd1d",
      "execution_count": null,
      "outputs": []
    },
    {
      "cell_type": "code",
      "metadata": {
        "id": "2e22d173-e4c1-4ec6-a943-10d1c1d59a1d"
      },
      "source": [
        "#Define las constantes \n",
        "T1 = 100;        # [ºC]\n",
        "P1 = 101.33;     # [kPas] Presión de vapor  a 100 ºC\n",
        "P2 = 150;        # [kPas] Presión de operación máxima de la olla, presión de vapor"
      ],
      "id": "2e22d173-e4c1-4ec6-a943-10d1c1d59a1d",
      "execution_count": null,
      "outputs": []
    },
    {
      "cell_type": "code",
      "metadata": {
        "id": "c68fbabc-ae93-428c-9a61-dd60d285ddef",
        "colab": {
          "base_uri": "https://localhost:8080/"
        },
        "outputId": "f7456351-264e-42f5-c84e-f1a63d81ab6c"
      },
      "source": [
        "# ¿Cuál es la temperatura Máxima dentro de la olla express?\n",
        "\n",
        "T1 = T1 + 273.15; # Conversión de ºC a K \n",
        "T2 = T1*(P2/P1);\n",
        "T2 = T2 - 273.15; # Conversion de K a ºC de la temperatura final \n",
        "T2 = round(T2,2)  \n",
        "T2  # ¿Es posible tener esta temperatura al interior de la Olla a presión? "
      ],
      "id": "c68fbabc-ae93-428c-9a61-dd60d285ddef",
      "execution_count": null,
      "outputs": [
        {
          "output_type": "execute_result",
          "data": {
            "text/plain": [
              "279.23"
            ]
          },
          "metadata": {},
          "execution_count": 3
        }
      ]
    },
    {
      "cell_type": "markdown",
      "metadata": {
        "id": "JViDptotvD8L"
      },
      "source": [
        "$$ T_2 = \\frac{(373.15\\:K)(150\\:kPas)}{101.33\\:kPas}$$\n",
        "\n",
        " $$T_2 = 552.38 K = 279.23\\:ºC$$ \n"
      ],
      "id": "JViDptotvD8L"
    },
    {
      "cell_type": "markdown",
      "metadata": {
        "id": "phFaXDsOyiiy"
      },
      "source": [
        "## ¿Es correcta la temperatura $T_2$ en el interior de la olla a presión?\n",
        "\n",
        "- Dentro de la olla a presión coexiste el agua y el vapor  por lo tanto a presión de saturación del agua debe estar relacionada con la temperatura de saturación. \n",
        "- La temperatura $T_2 >> T_{sat}$  por lo tanto no es correcta esta aproximación. \n",
        "- A $P_{sat}$198.53 kPas la $T_{sat}$ es 120 ºC  (Tabla A-3 - Propiedades del Agua Saturada, Cengel)\n",
        "- La olla a presión esta liberando vapor para mantener la presión constante (presión máxima, 150 kPas) por lo tanto se debe análizar como volumen de control. \n"
      ],
      "id": "phFaXDsOyiiy"
    },
    {
      "cell_type": "markdown",
      "metadata": {
        "id": "5ffc8c9e-4e6a-4c2b-afd3-8d5108d59db6"
      },
      "source": [
        "# Presión de vapor del agua en función de la temperatura\n",
        "\n",
        "Aproximación de la presión de saturación del agua - http://laplace.us.es/wiki/index.php/Propiedades_del_agua \n",
        "\n",
        "$$ P_{sat} = 0.6194\\exp\\left(\\frac{17.625 T}{T + 243.04}\\right)$$\n",
        "\n",
        "- $P_{sat} [kPas] $ presion de saturación\n",
        "- $T [ºC]$\n"
      ],
      "id": "5ffc8c9e-4e6a-4c2b-afd3-8d5108d59db6"
    },
    {
      "cell_type": "code",
      "metadata": {
        "id": "e1eee34a-0e02-45f4-b9a1-f04189c5049a",
        "colab": {
          "base_uri": "https://localhost:8080/"
        },
        "outputId": "ab28018a-f38b-4f45-9656-7020fcd91664"
      },
      "source": [
        "temperatura = np.linspace(100, 150, 40); # Al calentar podemos variar la temperatura\n",
        "temperatura"
      ],
      "id": "e1eee34a-0e02-45f4-b9a1-f04189c5049a",
      "execution_count": null,
      "outputs": [
        {
          "output_type": "execute_result",
          "data": {
            "text/plain": [
              "array([100.        , 101.28205128, 102.56410256, 103.84615385,\n",
              "       105.12820513, 106.41025641, 107.69230769, 108.97435897,\n",
              "       110.25641026, 111.53846154, 112.82051282, 114.1025641 ,\n",
              "       115.38461538, 116.66666667, 117.94871795, 119.23076923,\n",
              "       120.51282051, 121.79487179, 123.07692308, 124.35897436,\n",
              "       125.64102564, 126.92307692, 128.20512821, 129.48717949,\n",
              "       130.76923077, 132.05128205, 133.33333333, 134.61538462,\n",
              "       135.8974359 , 137.17948718, 138.46153846, 139.74358974,\n",
              "       141.02564103, 142.30769231, 143.58974359, 144.87179487,\n",
              "       146.15384615, 147.43589744, 148.71794872, 150.        ])"
            ]
          },
          "metadata": {},
          "execution_count": 8
        }
      ]
    },
    {
      "cell_type": "code",
      "metadata": {
        "id": "2c9ade2e-fc59-4f0b-9905-70d8fefdbcac",
        "colab": {
          "base_uri": "https://localhost:8080/"
        },
        "outputId": "0ece037b-4303-4506-b351-b893367b059c"
      },
      "source": [
        "presion = 0.6194*np.exp((17.625*temperatura)/(temperatura + 243.04))\n",
        "presion "
      ],
      "id": "2c9ade2e-fc59-4f0b-9905-70d8fefdbcac",
      "execution_count": null,
      "outputs": [
        {
          "output_type": "execute_result",
          "data": {
            "text/plain": [
              "array([105.51791863, 110.53977388, 115.76069265, 121.1868541 ,\n",
              "       126.82456852, 132.68027849, 138.76055994, 145.07212315,\n",
              "       151.62181379, 158.41661393, 165.46364294, 172.77015845,\n",
              "       180.34355724, 188.19137613, 196.32129277, 204.74112648,\n",
              "       213.45883906, 222.48253544, 231.82046449, 241.48101968,\n",
              "       251.47273967, 261.80430903, 272.48455876, 283.52246684,\n",
              "       294.92715881, 306.70790822, 318.87413709, 331.43541634,\n",
              "       344.40146619, 357.78215653, 371.5875072 , 385.82768835,\n",
              "       400.51302065, 415.65397554, 431.26117543, 447.34539383,\n",
              "       463.91755554, 480.98873668, 498.57016479, 516.67321887])"
            ]
          },
          "metadata": {},
          "execution_count": 9
        }
      ]
    },
    {
      "cell_type": "code",
      "metadata": {
        "id": "92321a8d-8756-498b-9bc5-8562681ae6eb",
        "colab": {
          "base_uri": "https://localhost:8080/",
          "height": 299
        },
        "outputId": "8b713617-2f1d-4f8d-d395-133ef5abc33a"
      },
      "source": [
        "plt.plot(temperatura,presion, \"ro\")\n",
        "plt.grid()\n",
        "plt.xlabel('Temperatura $[\\degree C]$')\n",
        "plt.ylabel('Presión $[kPas]$')\n",
        "plt.title('Presión de vapor en olla express')\n",
        "plt.show()"
      ],
      "id": "92321a8d-8756-498b-9bc5-8562681ae6eb",
      "execution_count": null,
      "outputs": [
        {
          "output_type": "display_data",
          "data": {
            "image/png": "[encoded data removed]",
            "text/plain": [
              "<Figure size 432x288 with 1 Axes>"
            ]
          },
          "metadata": {
            "needs_background": "light"
          }
        }
      ]
    },
    {
      "cell_type": "markdown",
      "metadata": {
        "id": "uQBUhS8gd3kr"
      },
      "source": [
        "\n",
        "## Conclusiones  \n",
        "\n",
        "- \n",
        "- \n",
        "- \n",
        "- \n"
      ],
      "id": "uQBUhS8gd3kr"
    }
  ]
}
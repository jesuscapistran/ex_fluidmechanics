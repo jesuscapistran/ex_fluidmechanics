{
  "nbformat": 4,
  "nbformat_minor": 0,
  "metadata": {
    "colab": {
      "name": "03_Ejemplo2_35-Cengel.ipynb",
      "provenance": []
    },
    "kernelspec": {
      "name": "python3",
      "display_name": "Python 3"
    },
    "language_info": {
      "name": "python"
    }
  },
  "cells": [
    {
      "cell_type": "code",
      "metadata": {
        "id": "QRDMCq7hhow8"
      },
      "source": [
        ""
      ],
      "execution_count": null,
      "outputs": []
    },
    {
      "cell_type": "markdown",
      "metadata": {
        "id": "YJNHTcCthpzQ"
      },
      "source": [
        "# Problema 2-35 \n",
        "\n",
        "En una tubería, un vapor de agua saturado a $150 \\: ºC$ (entalpía $h = 2745.9 \\frac{kJ}{kg}$) fluye a $35 \\: m/s$ a una elevación de  $z = 25\\:m$.  Determine la energía total de vapor en $\\frac{J}{kg}$ en relación con el nivel del suelo.   "
      ]
    },
    {
      "cell_type": "markdown",
      "metadata": {
        "id": "p60uffgVikLm"
      },
      "source": [
        "## Hipotesis \n",
        "La ecuación para obtener la energía total de un fluido es:\n",
        "\n",
        "$$e_{fluido} = e_c + e_p + u + \\frac{P}{\\rho}$$\n",
        "\n",
        "Como la energía de un fluido en movimiento (vapor de agua) esta dada por la entalpía $h = u + P/\\rho$ entonces: \n",
        "\n",
        "$$e_{fluido} = e_c + e_p + h$$\n",
        "\n",
        "Recuerda: energía especifica \n"
      ]
    },
    {
      "cell_type": "code",
      "metadata": {
        "id": "Cemkn_4xjLoc"
      },
      "source": [
        "# Declarar constantes  (Revisar muy bien las unidades)\n",
        "t = 150      # [ºC] Temperatura del fluido\n",
        "h = 2745.9E3 # [J/kg] entalpia del vapor de agua\n",
        "v = 35       # [m/s] velicidad del fluido\n",
        "z = 25       # [m] Altura en relación al nivel del suelo\n",
        "\n",
        "# Variables iniciales\n"
      ],
      "execution_count": 1,
      "outputs": []
    },
    {
      "cell_type": "code",
      "metadata": {
        "id": "WRiM3NDkjQs2"
      },
      "source": [
        "# Escribir Funciones (Como se realiza el calculo de energía interna)\n"
      ],
      "execution_count": null,
      "outputs": []
    },
    {
      "cell_type": "code",
      "metadata": {
        "id": "Jv_2Sk_-jg0-"
      },
      "source": [
        "# Realizar calculos utilizando las funciones y presentar resultado. "
      ],
      "execution_count": null,
      "outputs": []
    }
  ]
}
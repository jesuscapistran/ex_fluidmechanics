{
  "nbformat": 4,
  "nbformat_minor": 0,
  "metadata": {
    "colab": {
      "name": "2-46_Compresibilidad.ipynb",
      "provenance": [],
      "collapsed_sections": []
    },
    "kernelspec": {
      "name": "python3",
      "display_name": "Python 3"
    },
    "language_info": {
      "name": "python"
    }
  },
  "cells": [
    {
      "cell_type": "markdown",
      "metadata": {
        "id": "eqlti_tPdtX0"
      },
      "source": [
        "# 2-46 Compresibilidad\n",
        "**Fecha:** 28/09/2021, **Alumno:** Nombre y Apellido \n",
        "\n",
        "La densidad del agua de mar en una superficie libre donde la presión es de $98$ kPa es aproximadamente 1030 $kg/m^3$. Tome el **modulo de elasticidad de volumen del agua de mar** como $2.34 \\times 10^9 $ N/m y expresando la variación de la presión con la profunidad $z$ como $dP = \\rho g dz $. Determine la densidad a una produndidad de 2500 m.\n"
      ]
    },
    {
      "cell_type": "markdown",
      "metadata": {
        "id": "r2u6jq6HfXPF"
      },
      "source": [
        "# Datos \n",
        "\n",
        "- Fluido: agua de mar\n",
        "- $P_o = 98$ [kPa]\n",
        "- $\\rho_o = 1030 \\: [kg/m^3]$\n",
        "- $k = 2.34 \\times 10^9 \\: [N/m]$ \n",
        "- $z_o = 0 $ [m]\n",
        "- $z =  2500$ [m]\n",
        "- $\\rho = $ (Variable a calcular ) "
      ]
    },
    {
      "cell_type": "code",
      "metadata": {
        "id": "LTRwyxoMgnaT"
      },
      "source": [
        ""
      ],
      "execution_count": null,
      "outputs": []
    },
    {
      "cell_type": "markdown",
      "metadata": {
        "id": "Ga2HTQkTgtij"
      },
      "source": [
        "## Ecuación relacionada (Temperatura constante)\n",
        "\n",
        "$$ k = \\rho \\frac{\\partial P}{\\partial \\rho} $$\n",
        "\n",
        "\n",
        "## Sustitutir \n",
        "\n",
        "$$ \\partial P = \\rho g \\partial z $$\n",
        "\n",
        "##  k en función de z\n",
        "\n",
        "$$ k = \\rho \\frac{\\rho g}{\\partial \\rho} dz  = \\rho^2 g \\frac{\\partial z}{\\partial \\rho}$$\n",
        "\n",
        "## Reacomodamos \n",
        "\n",
        "$$ \\frac{1}{\\rho^2} \\partial \\rho = \\frac{g}{k} \\partial z $$\n",
        "\n",
        "## Integral y evaluar \n",
        "\n",
        "$$ - (\\frac{1}{\\rho_o} - \\frac{1}{\\rho}) = \\frac{g}{k} (z)$$ \n",
        "\n",
        "$$ \\frac{1}{\\rho} - \\frac{1}{\\rho_o} = \\frac{g}{k} (z)$$ \n",
        "\n",
        "\n",
        "$$ \\frac{1}{\\rho} = \\frac{1}{\\rho_o}  + \\frac{g}{k} (z)$$ \n",
        "\n",
        "\n",
        "\n",
        "$$ \\rho = \\frac{1}{\\frac{1}{\\rho_o}  + \\frac{g z}{k}} $$ \n",
        "\n",
        "\n",
        "\n"
      ]
    },
    {
      "cell_type": "code",
      "metadata": {
        "id": "E4C6sN9ql_22"
      },
      "source": [
        ""
      ],
      "execution_count": null,
      "outputs": []
    },
    {
      "cell_type": "code",
      "metadata": {
        "colab": {
          "base_uri": "https://localhost:8080/",
          "height": 54
        },
        "id": "l0vuIIRbivcb",
        "outputId": "3c0eeeb8-37e4-4274-d86d-1ed0a51a1792"
      },
      "source": [
        "#Importr modulo para realizar integración \n",
        "# URL: https://www.youtube.com/watch?v=yTDmlAaYx10 \n",
        "\n",
        "from sympy import *\n",
        "init_printing()\n",
        "\n",
        "#Declara variables a integrar \n",
        "rho = symbols(\"rho\") \n",
        "\n",
        "# Define las funciones a evaluar (integrar) \n",
        "f1 = 1/rho**2\n",
        "\n",
        "# Ejemplo integral symbolica \n",
        "integrate(f1,rho)\n",
        "\n",
        "# Evaluar "
      ],
      "execution_count": null,
      "outputs": [
        {
          "output_type": "execute_result",
          "data": {
            "image/png": "[encoded data removed]",
            "text/latex": "$\\displaystyle - \\frac{1}{\\rho}$",
            "text/plain": [
              "-1 \n",
              "───\n",
              " ρ "
            ]
          },
          "metadata": {},
          "execution_count": 5
        }
      ]
    },
    {
      "cell_type": "code",
      "metadata": {
        "id": "et3zxIZvcBLf"
      },
      "source": [
        "#Declarar constantes y variables "
      ],
      "execution_count": null,
      "outputs": []
    },
    {
      "cell_type": "code",
      "metadata": {
        "id": "TxhryqOWc4ce"
      },
      "source": [
        "# Función que calcula densidad a distancia z (d_rho)"
      ],
      "execution_count": null,
      "outputs": []
    },
    {
      "cell_type": "code",
      "metadata": {
        "id": "izxIw6MadD7J"
      },
      "source": [
        "# Realizar cálculos "
      ],
      "execution_count": null,
      "outputs": []
    },
    {
      "cell_type": "code",
      "metadata": {
        "id": "NS-hgQZldHsl"
      },
      "source": [
        "# Presentar resultados [kg/m3]"
      ],
      "execution_count": 1,
      "outputs": []
    },
    {
      "cell_type": "code",
      "metadata": {
        "id": "LVpivbazqw6M"
      },
      "source": [
        ""
      ],
      "execution_count": null,
      "outputs": []
    }
  ]
}
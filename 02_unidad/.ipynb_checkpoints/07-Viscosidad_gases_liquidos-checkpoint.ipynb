{
 "cells": [
  {
   "cell_type": "markdown",
   "id": "282ae8fe",
   "metadata": {},
   "source": [
    "## Viscosidad en función de la temperatura \n",
    "**Fecha:** 04/10/2021  **Profesor:** Dr. Jesús Capistrán Martínez\n",
    "\n",
    "Graficar en Google Colab la variación de la viscosidad del agua y del aire en función de la temperatura. -20 ºC < T < 120 ºC\n",
    "\n",
    "\n",
    "$$ \\text{Viscosidad agua} = \\mu = a10^{\\frac{b}{T-c}} $$\n",
    "\n",
    "$$ \\text{Viscosidad aire} = \\mu = \\frac{aT^{1/2}}{1+b/T} $$\n",
    "\n",
    "\n",
    "Viscosidad del agua:\n",
    "- $a = 2.414\\times10^{-5} \\: Ns/m^2$\n",
    "- $b = 247.8 \\: K$\n",
    "- $c = 140 \\: K$\n",
    "\n",
    "\n",
    "Viscosidad del aire:\n",
    "- $a = 1.458 \\times 10^{-6} \\: Kg/(msK^{1/2})$\n",
    "- $b = 110.4 \\: K$\n"
   ]
  },
  {
   "cell_type": "code",
   "execution_count": 40,
   "id": "957d5c56",
   "metadata": {},
   "outputs": [],
   "source": [
    "# Import modules \n",
    "import numpy as np\n",
    "import matplotlib.pyplot as plt\n"
   ]
  },
  {
   "cell_type": "code",
   "execution_count": 41,
   "id": "2c651032",
   "metadata": {},
   "outputs": [],
   "source": [
    "# Definir constantes  Agua \n",
    "\n",
    "a1 = 2.414e-5 # [Ns/m^2]\n",
    "b1 = 247.8    # [K]\n",
    "c1 = 140      # [K]\n",
    "\n",
    "# Definir constantes Aire \n",
    "a2 = 1.458e-6 # [Kg/(msK^{1/2})]\n",
    "b2 = 110.4    # [K] \n",
    "\n",
    "# Definir temperaturas inicial y final del vector \n",
    "T1 = -20      # [ºC]\n",
    "T2 = 120      # [ºC]"
   ]
  },
  {
   "cell_type": "code",
   "execution_count": 42,
   "id": "2df3b4a6",
   "metadata": {},
   "outputs": [],
   "source": [
    "# Crear vector de temperatura en grados Kelvin \n",
    "\n",
    "temperatura = np.linspace(T1+273.15, T2+273.15, 140)"
   ]
  },
  {
   "cell_type": "code",
   "execution_count": 43,
   "id": "dbe435c7",
   "metadata": {},
   "outputs": [],
   "source": [
    "# Ecuaciones de viscosidad \n",
    "\n",
    "viscosidad_agua = a1*10**((b1)/(temperatura - c1))\n",
    "viscosidad_aire = (a2*temperatura**(1/2))/(1 + (b2/temperatura))"
   ]
  },
  {
   "cell_type": "code",
   "execution_count": 59,
   "id": "cd28ec58",
   "metadata": {},
   "outputs": [
    {
     "data": {
      "image/png": "[encoded data removed]",
      "text/plain": [
       "<Figure size 432x576 with 1 Axes>"
      ]
     },
     "metadata": {
      "needs_background": "light"
     },
     "output_type": "display_data"
    }
   ],
   "source": [
    "# Graficar viscosidad en función de temperatura [ºC]\n",
    "\n",
    "plt.figure(figsize=(6,8))\n",
    "plt.semilogy(temperatura-273.15, viscosidad_agua)\n",
    "plt.semilogy(temperatura-273.15, viscosidad_aire)\n",
    "plt.grid(True, which=\"both\", ls=\"-\")\n",
    "plt.ylim(1e-5,1e-2)\n",
    "plt.xlim(-20,120)\n",
    "plt.xlabel('$ T\\;[\\degree C]$', fontsize=16)\n",
    "plt.ylabel(' Viscosidad absoluta, $ \\mu \\;[Ns/m^2]$', fontsize=16)\n",
    "plt.show()"
   ]
  },
  {
   "cell_type": "markdown",
   "id": "da6c8def",
   "metadata": {},
   "source": [
    "## Conclusiones\n",
    "- La viscosidad del agua disminuye al aumentar la temperatura del fluido. \n",
    "- La viscosidad del aire aumenta al aumentar la temperatura del fluido (Correlación de Sutherland)"
   ]
  },
  {
   "cell_type": "code",
   "execution_count": null,
   "id": "d1b04abc",
   "metadata": {},
   "outputs": [],
   "source": []
  }
 ],
 "metadata": {
  "kernelspec": {
   "display_name": "Python 3",
   "language": "python",
   "name": "python3"
  },
  "language_info": {
   "codemirror_mode": {
    "name": "ipython",
    "version": 3
   },
   "file_extension": ".py",
   "mimetype": "text/x-python",
   "name": "python",
   "nbconvert_exporter": "python",
   "pygments_lexer": "ipython3",
   "version": "3.8.8"
  }
 },
 "nbformat": 4,
 "nbformat_minor": 5
}

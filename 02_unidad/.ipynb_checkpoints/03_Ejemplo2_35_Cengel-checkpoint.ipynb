{
 "cells": [
  {
   "cell_type": "markdown",
   "metadata": {
    "id": "YJNHTcCthpzQ"
   },
   "source": [
    "# Problema 2-35 \n",
    "**Fecha:** 21-Sep-2021, **Nombre:** Dr. Jesús Capistrán Martínez\n",
    "\n",
    "En una tubería, un vapor de agua saturado a $150 \\: ºC$ (entalpía $h = 2745.9 \\: kJ/kg$) fluye a $35 \\: m/s$ a una elevación de  $z = 25\\:m$.  Determine la energía total de vapor en $J/kg$ en relación con el nivel del suelo.\n"
   ]
  },
  {
   "cell_type": "markdown",
   "metadata": {
    "id": "p60uffgVikLm"
   },
   "source": [
    "## Hipotesis \n",
    "La ecuación para obtener la energía total de un fluido es:\n",
    "\n",
    "$$e_{fluido} = e_c + e_p + u + \\frac{P}{\\rho}$$\n",
    "\n",
    "Como la energía de un fluido en movimiento (vapor de agua) esta dada por la entalpía $h = u + P/\\rho$ entonces: \n",
    "\n",
    "$$e_{fluido} = e_c + e_p + h$$\n",
    "\n",
    "Recuerda: energía especifica \n"
   ]
  },
  {
   "cell_type": "code",
   "execution_count": 3,
   "metadata": {
    "id": "Cemkn_4xjLoc"
   },
   "outputs": [],
   "source": [
    "# Declarar constantes  (Revisar muy bien las unidades)\n",
    "t = 150      # [ºC] Temperatura del fluido\n",
    "h = 2745.9E3 # [J/kg] entalpia del vapor de agua\n",
    "v = 35       # [m/s] velicidad del fluido\n",
    "z = 25       # [m] Altura en relación al nivel del suelo\n",
    "g = 9.807    # [m/s^2] \n",
    "\n",
    "# Variables iniciales"
   ]
  },
  {
   "cell_type": "code",
   "execution_count": 14,
   "metadata": {
    "id": "WRiM3NDkjQs2"
   },
   "outputs": [],
   "source": [
    "# Escribir Funciones (Como se realiza el calculo de energía total)\n",
    "\n",
    "def energia_potencial(altura):\n",
    "    ep = g*altura\n",
    "    return ep\n",
    "\n",
    "def energia_cinetica(velocidad):\n",
    "    ec = (velocidad**2)/2\n",
    "    return ec\n",
    "\n",
    "def energia_total(ec,ep,h):\n",
    "    et = ec + ep + h \n",
    "    return et \n"
   ]
  },
  {
   "cell_type": "code",
   "execution_count": 30,
   "metadata": {
    "id": "Jv_2Sk_-jg0-"
   },
   "outputs": [
    {
     "name": "stdout",
     "output_type": "stream",
     "text": [
      "La energía total es: 2746757.675 J/kg\n",
      "La energía total es: 2.75e+06 J/kg\n"
     ]
    }
   ],
   "source": [
    "# Realizar calculos utilizando las funciones y presentar resultado. \n",
    "ec = energia_cinetica(v)\n",
    "ep = energia_potencial(z)\n",
    "et = energia_total(ec,ep,h)\n",
    "\n",
    "#print(f\"La energía  potencial del fluido es: {round(ep,2)} J/kg \")\n",
    "#print(f\"La energía cinetica del fluido es:   {round(ec,2)} J/kg \")\n",
    "#print(f\"La energía del fluido en movimiento es: {round(h,2)} J/kg \\n\")\n",
    "\n",
    "print(f\"La energía total es: {et} J/kg\") #notación cientifica\n",
    "print(f\"La energía total es: {et:.2e} J/kg\") #notación cientifica"
   ]
  },
  {
   "cell_type": "code",
   "execution_count": null,
   "metadata": {},
   "outputs": [],
   "source": []
  }
 ],
 "metadata": {
  "colab": {
   "name": "03_Ejemplo2_35-Cengel.ipynb",
   "provenance": []
  },
  "kernelspec": {
   "display_name": "Python 3",
   "language": "python",
   "name": "python3"
  },
  "language_info": {
   "codemirror_mode": {
    "name": "ipython",
    "version": 3
   },
   "file_extension": ".py",
   "mimetype": "text/x-python",
   "name": "python",
   "nbconvert_exporter": "python",
   "pygments_lexer": "ipython3",
   "version": "3.8.8"
  }
 },
 "nbformat": 4,
 "nbformat_minor": 1
}

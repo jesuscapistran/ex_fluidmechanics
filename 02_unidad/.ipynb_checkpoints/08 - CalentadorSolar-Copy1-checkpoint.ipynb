{
 "cells": [
  {
   "cell_type": "markdown",
   "id": "649619f1",
   "metadata": {},
   "source": [
    "## Eficiencia térmica instantanea \n",
    "\n",
    "Se define como la relación de la energía util que el captador solar transfiere al fluido de trabajo, respecto de la energía de radiación solar que incide sobre el área de captación. Este valor de eficiencia se puede calcular mediante la siguiente ecuación: \n",
    "\n",
    "$$ \\eta = \\frac{\\dot{m}c_p(T_{s} - T_{e})}{G A} $$\n",
    "\n",
    "\n",
    "- $\\dot{m}$: Flujo másico del fluido de trabajo\n",
    "- $c_p$:     Calor especifico a presión constante del fluido de trabajo \n",
    "- $T_s$:     Temperatura a la salida\n",
    "- $T_e$:     Temperatura a la entrada \n",
    "- $G$:       Irradiancia solar \n",
    "- $A$:       Área de captación \n",
    "\n"
   ]
  },
  {
   "cell_type": "code",
   "execution_count": 3,
   "id": "90dc5411",
   "metadata": {},
   "outputs": [],
   "source": [
    "import pandas as pd\n",
    "import numpy as np \n",
    "import matplotlib.pyplot as plt \n"
   ]
  },
  {
   "cell_type": "code",
   "execution_count": 4,
   "id": "32213c55",
   "metadata": {},
   "outputs": [],
   "source": [
    "# Definir constantes \n",
    "\n",
    "irradiancia = 1000   # W/m2\n",
    "area        = 2.1*0.95    # 2.1 m largo x 0.95 m ancho \n",
    "c_p         = 4.18e3 # J/Kg K"
   ]
  },
  {
   "cell_type": "code",
   "execution_count": 5,
   "id": "88ac48d3",
   "metadata": {},
   "outputs": [
    {
     "data": {
      "text/plain": [
       "\"\\nd = {'flujo_masico': [1, 2], 'T_entrada': [3, 4], 'T_salida': [3, 4]}\\ndf = pd.DataFrame(data=d)\\ndf\\n\""
      ]
     },
     "execution_count": 5,
     "metadata": {},
     "output_type": "execute_result"
    }
   ],
   "source": [
    "#Ejemplo para crear un DataFrame en PANDAS\n",
    "#URL: https://pandas.pydata.org/docs/reference/api/pandas.DataFrame.html\n",
    "'''\n",
    "d = {'flujo_masico': [1, 2], 'T_entrada': [3, 4], 'T_salida': [3, 4]}\n",
    "df = pd.DataFrame(data=d)\n",
    "df\n",
    "'''"
   ]
  },
  {
   "cell_type": "code",
   "execution_count": 8,
   "id": "91ac6522",
   "metadata": {},
   "outputs": [
    {
     "data": {
      "text/html": [
       "<div>\n",
       "<style scoped>\n",
       "    .dataframe tbody tr th:only-of-type {\n",
       "        vertical-align: middle;\n",
       "    }\n",
       "\n",
       "    .dataframe tbody tr th {\n",
       "        vertical-align: top;\n",
       "    }\n",
       "\n",
       "    .dataframe thead th {\n",
       "        text-align: right;\n",
       "    }\n",
       "</style>\n",
       "<table border=\"1\" class=\"dataframe\">\n",
       "  <thead>\n",
       "    <tr style=\"text-align: right;\">\n",
       "      <th></th>\n",
       "      <th>Flujo_masico</th>\n",
       "      <th>T_entrada</th>\n",
       "      <th>T_salida</th>\n",
       "      <th>Flujo_masico_min</th>\n",
       "    </tr>\n",
       "  </thead>\n",
       "  <tbody>\n",
       "    <tr>\n",
       "      <th>0</th>\n",
       "      <td>0.250000</td>\n",
       "      <td>306.11</td>\n",
       "      <td>307.31</td>\n",
       "      <td>15.00</td>\n",
       "    </tr>\n",
       "    <tr>\n",
       "      <th>1</th>\n",
       "      <td>0.166667</td>\n",
       "      <td>306.11</td>\n",
       "      <td>307.84</td>\n",
       "      <td>10.00</td>\n",
       "    </tr>\n",
       "    <tr>\n",
       "      <th>2</th>\n",
       "      <td>0.083333</td>\n",
       "      <td>306.11</td>\n",
       "      <td>309.51</td>\n",
       "      <td>5.00</td>\n",
       "    </tr>\n",
       "    <tr>\n",
       "      <th>3</th>\n",
       "      <td>0.029000</td>\n",
       "      <td>306.11</td>\n",
       "      <td>315.69</td>\n",
       "      <td>1.74</td>\n",
       "    </tr>\n",
       "    <tr>\n",
       "      <th>4</th>\n",
       "      <td>0.013333</td>\n",
       "      <td>306.11</td>\n",
       "      <td>326.21</td>\n",
       "      <td>0.80</td>\n",
       "    </tr>\n",
       "    <tr>\n",
       "      <th>5</th>\n",
       "      <td>0.001667</td>\n",
       "      <td>306.11</td>\n",
       "      <td>407.29</td>\n",
       "      <td>0.10</td>\n",
       "    </tr>\n",
       "    <tr>\n",
       "      <th>6</th>\n",
       "      <td>0.000667</td>\n",
       "      <td>306.11</td>\n",
       "      <td>451.90</td>\n",
       "      <td>0.04</td>\n",
       "    </tr>\n",
       "  </tbody>\n",
       "</table>\n",
       "</div>"
      ],
      "text/plain": [
       "   Flujo_masico  T_entrada  T_salida  Flujo_masico_min\n",
       "0      0.250000     306.11    307.31             15.00\n",
       "1      0.166667     306.11    307.84             10.00\n",
       "2      0.083333     306.11    309.51              5.00\n",
       "3      0.029000     306.11    315.69              1.74\n",
       "4      0.013333     306.11    326.21              0.80\n",
       "5      0.001667     306.11    407.29              0.10\n",
       "6      0.000667     306.11    451.90              0.04"
      ]
     },
     "execution_count": 8,
     "metadata": {},
     "output_type": "execute_result"
    }
   ],
   "source": [
    "# Tabla de parametros  flujo másico,  T entrada, T salida \n",
    "\n",
    "flujo_m = [15  , 10, 5, 1.74, 0.8, 0.1, 0.04]         # kg/min \n",
    "flujo_m = np.array(flujo_m)/60                        # kg/s\n",
    "\n",
    "Temp_e =  [32.96,32.96,32.96,32.96,32.96,32.96,32.96] # ºC\n",
    "Temp_e =  np.array(Temp_e)+273.15                     # grados K\n",
    "\n",
    "T_s =     [34.16,34.69,36.36,42.54,53.06,134.14,178.75] # ºC\n",
    "T_s =     np.array(T_s)+273.15                          # grados K\n",
    "\n",
    "datos = {'Flujo_masico':flujo_m, 'T_entrada':Temp_e, 'T_salida':T_s} #diccionario \n",
    "datos_df = pd.DataFrame(data=datos) # convierte el diccionario a dataframe (pandas)\n",
    "\n",
    "# Se agrega columna nueva\n",
    "datos_df['Flujo_masico_min'] = datos_df['Flujo_masico']*60\n",
    "datos_df"
   ]
  },
  {
   "cell_type": "code",
   "execution_count": 132,
   "id": "90fa78aa",
   "metadata": {},
   "outputs": [
    {
     "data": {
      "text/plain": [
       "{'Flujo_masico': array([0.25      , 0.16666667, 0.08333333, 0.029     , 0.01333333,\n",
       "        0.00166667, 0.00066667]),\n",
       " 'T_entrada': array([306.11, 306.11, 306.11, 306.11, 306.11, 306.11, 306.11]),\n",
       " 'T_salida': array([307.31, 307.84, 309.51, 315.69, 326.21, 407.29, 451.9 ])}"
      ]
     },
     "execution_count": 132,
     "metadata": {},
     "output_type": "execute_result"
    }
   ],
   "source": [
    "datos # Aqui se visualiza el diccionario "
   ]
  },
  {
   "cell_type": "code",
   "execution_count": 133,
   "id": "e7ab845a",
   "metadata": {},
   "outputs": [
    {
     "data": {
      "text/html": [
       "<div>\n",
       "<style scoped>\n",
       "    .dataframe tbody tr th:only-of-type {\n",
       "        vertical-align: middle;\n",
       "    }\n",
       "\n",
       "    .dataframe tbody tr th {\n",
       "        vertical-align: top;\n",
       "    }\n",
       "\n",
       "    .dataframe thead th {\n",
       "        text-align: right;\n",
       "    }\n",
       "</style>\n",
       "<table border=\"1\" class=\"dataframe\">\n",
       "  <thead>\n",
       "    <tr style=\"text-align: right;\">\n",
       "      <th></th>\n",
       "      <th>Flujo_masico</th>\n",
       "      <th>T_entrada</th>\n",
       "      <th>T_salida</th>\n",
       "      <th>Flujo_masico_min</th>\n",
       "    </tr>\n",
       "  </thead>\n",
       "  <tbody>\n",
       "    <tr>\n",
       "      <th>0</th>\n",
       "      <td>0.250000</td>\n",
       "      <td>306.11</td>\n",
       "      <td>307.31</td>\n",
       "      <td>15.00</td>\n",
       "    </tr>\n",
       "    <tr>\n",
       "      <th>1</th>\n",
       "      <td>0.166667</td>\n",
       "      <td>306.11</td>\n",
       "      <td>307.84</td>\n",
       "      <td>10.00</td>\n",
       "    </tr>\n",
       "    <tr>\n",
       "      <th>2</th>\n",
       "      <td>0.083333</td>\n",
       "      <td>306.11</td>\n",
       "      <td>309.51</td>\n",
       "      <td>5.00</td>\n",
       "    </tr>\n",
       "    <tr>\n",
       "      <th>3</th>\n",
       "      <td>0.029000</td>\n",
       "      <td>306.11</td>\n",
       "      <td>315.69</td>\n",
       "      <td>1.74</td>\n",
       "    </tr>\n",
       "    <tr>\n",
       "      <th>4</th>\n",
       "      <td>0.013333</td>\n",
       "      <td>306.11</td>\n",
       "      <td>326.21</td>\n",
       "      <td>0.80</td>\n",
       "    </tr>\n",
       "    <tr>\n",
       "      <th>5</th>\n",
       "      <td>0.001667</td>\n",
       "      <td>306.11</td>\n",
       "      <td>407.29</td>\n",
       "      <td>0.10</td>\n",
       "    </tr>\n",
       "    <tr>\n",
       "      <th>6</th>\n",
       "      <td>0.000667</td>\n",
       "      <td>306.11</td>\n",
       "      <td>451.90</td>\n",
       "      <td>0.04</td>\n",
       "    </tr>\n",
       "  </tbody>\n",
       "</table>\n",
       "</div>"
      ],
      "text/plain": [
       "   Flujo_masico  T_entrada  T_salida  Flujo_masico_min\n",
       "0      0.250000     306.11    307.31             15.00\n",
       "1      0.166667     306.11    307.84             10.00\n",
       "2      0.083333     306.11    309.51              5.00\n",
       "3      0.029000     306.11    315.69              1.74\n",
       "4      0.013333     306.11    326.21              0.80\n",
       "5      0.001667     306.11    407.29              0.10\n",
       "6      0.000667     306.11    451.90              0.04"
      ]
     },
     "execution_count": 133,
     "metadata": {},
     "output_type": "execute_result"
    }
   ],
   "source": [
    "datos_df # Aqui se visualiza nuevamente el dataframe (pandas)"
   ]
  },
  {
   "cell_type": "code",
   "execution_count": 134,
   "id": "c9613969",
   "metadata": {},
   "outputs": [
    {
     "data": {
      "text/html": [
       "<div>\n",
       "<style scoped>\n",
       "    .dataframe tbody tr th:only-of-type {\n",
       "        vertical-align: middle;\n",
       "    }\n",
       "\n",
       "    .dataframe tbody tr th {\n",
       "        vertical-align: top;\n",
       "    }\n",
       "\n",
       "    .dataframe thead th {\n",
       "        text-align: right;\n",
       "    }\n",
       "</style>\n",
       "<table border=\"1\" class=\"dataframe\">\n",
       "  <thead>\n",
       "    <tr style=\"text-align: right;\">\n",
       "      <th></th>\n",
       "      <th>Flujo_masico</th>\n",
       "      <th>T_entrada</th>\n",
       "      <th>T_salida</th>\n",
       "      <th>Flujo_masico_min</th>\n",
       "      <th>eficiencia</th>\n",
       "    </tr>\n",
       "  </thead>\n",
       "  <tbody>\n",
       "    <tr>\n",
       "      <th>0</th>\n",
       "      <td>0.250</td>\n",
       "      <td>306.11</td>\n",
       "      <td>307.31</td>\n",
       "      <td>15.00</td>\n",
       "      <td>62.857</td>\n",
       "    </tr>\n",
       "    <tr>\n",
       "      <th>1</th>\n",
       "      <td>0.167</td>\n",
       "      <td>306.11</td>\n",
       "      <td>307.84</td>\n",
       "      <td>10.00</td>\n",
       "      <td>60.413</td>\n",
       "    </tr>\n",
       "    <tr>\n",
       "      <th>2</th>\n",
       "      <td>0.083</td>\n",
       "      <td>306.11</td>\n",
       "      <td>309.51</td>\n",
       "      <td>5.00</td>\n",
       "      <td>59.365</td>\n",
       "    </tr>\n",
       "    <tr>\n",
       "      <th>3</th>\n",
       "      <td>0.029</td>\n",
       "      <td>306.11</td>\n",
       "      <td>315.69</td>\n",
       "      <td>1.74</td>\n",
       "      <td>58.210</td>\n",
       "    </tr>\n",
       "    <tr>\n",
       "      <th>4</th>\n",
       "      <td>0.013</td>\n",
       "      <td>306.11</td>\n",
       "      <td>326.21</td>\n",
       "      <td>0.80</td>\n",
       "      <td>56.152</td>\n",
       "    </tr>\n",
       "    <tr>\n",
       "      <th>5</th>\n",
       "      <td>0.002</td>\n",
       "      <td>306.11</td>\n",
       "      <td>407.29</td>\n",
       "      <td>0.10</td>\n",
       "      <td>35.333</td>\n",
       "    </tr>\n",
       "    <tr>\n",
       "      <th>6</th>\n",
       "      <td>0.001</td>\n",
       "      <td>306.11</td>\n",
       "      <td>451.90</td>\n",
       "      <td>0.04</td>\n",
       "      <td>20.364</td>\n",
       "    </tr>\n",
       "  </tbody>\n",
       "</table>\n",
       "</div>"
      ],
      "text/plain": [
       "   Flujo_masico  T_entrada  T_salida  Flujo_masico_min  eficiencia\n",
       "0         0.250     306.11    307.31             15.00      62.857\n",
       "1         0.167     306.11    307.84             10.00      60.413\n",
       "2         0.083     306.11    309.51              5.00      59.365\n",
       "3         0.029     306.11    315.69              1.74      58.210\n",
       "4         0.013     306.11    326.21              0.80      56.152\n",
       "5         0.002     306.11    407.29              0.10      35.333\n",
       "6         0.001     306.11    451.90              0.04      20.364"
      ]
     },
     "execution_count": 134,
     "metadata": {},
     "output_type": "execute_result"
    }
   ],
   "source": [
    "# Ecuación de eficiencia térmica instantanea \n",
    "datos_df['eficiencia'] = 100*(((datos_df['T_salida']-datos_df['T_entrada'])*c_p*datos_df['Flujo_masico'])/(irradiancia*area))\n",
    "datos_df = round(datos_df,3)\n",
    "datos_df"
   ]
  },
  {
   "cell_type": "code",
   "execution_count": null,
   "id": "f8d2ca48",
   "metadata": {},
   "outputs": [],
   "source": []
  },
  {
   "cell_type": "code",
   "execution_count": 144,
   "id": "92dfce44",
   "metadata": {},
   "outputs": [
    {
     "data": {
      "image/png": "[encoded data removed]",
      "text/plain": [
       "<Figure size 432x288 with 1 Axes>"
      ]
     },
     "metadata": {
      "needs_background": "light"
     },
     "output_type": "display_data"
    }
   ],
   "source": [
    "# Grafica de eficiencia térmica instantanea. \n",
    "mi_grafica = datos_df.plot('Flujo_masico_min', 'eficiencia', kind='scatter')\n",
    "plt.ylabel('Eficiencia [%]')\n",
    "plt.xlabel('Flujo másico [kg/s]')\n",
    "plt.ylim(10,70)\n",
    "plt.xlim(-1,16,1)\n",
    "plt.grid()\n",
    "plt.show()"
   ]
  },
  {
   "cell_type": "code",
   "execution_count": null,
   "id": "5ffb96c4",
   "metadata": {},
   "outputs": [],
   "source": []
  }
 ],
 "metadata": {
  "kernelspec": {
   "display_name": "Python 3",
   "language": "python",
   "name": "python3"
  },
  "language_info": {
   "codemirror_mode": {
    "name": "ipython",
    "version": 3
   },
   "file_extension": ".py",
   "mimetype": "text/x-python",
   "name": "python",
   "nbconvert_exporter": "python",
   "pygments_lexer": "ipython3",
   "version": "3.8.8"
  }
 },
 "nbformat": 4,
 "nbformat_minor": 5
}

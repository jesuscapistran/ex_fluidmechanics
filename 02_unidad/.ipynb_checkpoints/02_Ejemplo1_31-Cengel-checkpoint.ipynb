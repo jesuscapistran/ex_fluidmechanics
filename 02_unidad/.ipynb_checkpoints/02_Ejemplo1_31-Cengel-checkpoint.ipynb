{
 "cells": [
  {
   "cell_type": "markdown",
   "id": "ac8a80a6-58c4-4028-88f4-1a4ff20b045b",
   "metadata": {},
   "source": [
    "## Problema 1-31:\n",
    "A 45º de latitud la aceleración de la gravedad en función de la elevación $z$ sobre el nivel del mar está dada por $g = a-bz$ donde $a = 9.807 \\: m/s^2$ y $b = 3.32\\times10^{-6} \\: s^{-2}$\n",
    "\n",
    "Determine la altura sobre el nivel del mar donde el peso de un objeto disminuira en 1 por ciento. **R = 29500 m**"
   ]
  },
  {
   "cell_type": "markdown",
   "id": "535e9132-02e9-4c11-be18-9b397e168b51",
   "metadata": {},
   "source": [
    "## Algoritmo\n",
    "\n",
    "- Encontrar el peso de un objeto al nivel del mar (Ejemplo: m = 1 kg)  y z = 0 m\n",
    "- Encontrar la altura de un objeto cuando el peso disminuye en 1% , z = ? \n"
   ]
  },
  {
   "cell_type": "code",
   "execution_count": 150,
   "id": "70c38b64-1af4-4f82-8c17-db45c627b382",
   "metadata": {},
   "outputs": [],
   "source": [
    "# Definir constantes conocidas\n",
    "a = 9.807;    # [m/s^2]\n",
    "b = 3.32E-6   # [s^{-2}]\n",
    "\n",
    "# Definir Variables iniciales\n",
    "z = 0 ;   # [m] altura a nivel del mar \n",
    "m = 1;   # [kg] masa a nivel del mar  \n",
    "p = 1 ;   # [%] porcentaje de reducción de pesos "
   ]
  },
  {
   "cell_type": "code",
   "execution_count": 151,
   "id": "f733ac13-22f8-4573-8eff-5d61e048e675",
   "metadata": {},
   "outputs": [],
   "source": [
    "# Declara las funciones\n",
    "\n",
    "def cte_gravedad(altura):\n",
    "    g = a - b*altura\n",
    "    return g\n",
    "\n",
    "def peso_objeto(masa,altura):\n",
    "    g = a - b*altura\n",
    "    peso = masa * g \n",
    "    return peso\n",
    "\n",
    "def cambio_altura(porcentage):\n",
    "    porcentage = porcentage/100;\n",
    "    g = (peso*((1-porcentage)))/m\n",
    "    altura_nueva = ((a - g)/b)\n",
    "    return altura_nueva"
   ]
  },
  {
   "cell_type": "code",
   "execution_count": 152,
   "id": "82860e40-ad82-41fb-b30d-1fa20a219206",
   "metadata": {},
   "outputs": [
    {
     "name": "stdout",
     "output_type": "stream",
     "text": [
      "La cte de gravedad a altura de 0 metros es: 9.807 m/s^2\n",
      "El peso de una masa de 1 kg a altura de 0 metros es 9.807 N\n",
      "El peso disminuye en 1%  al aumentar la altitud del objeto a 29539.2 m\n"
     ]
    }
   ],
   "source": [
    "# Imprimer resultados de peso y gravedad a nivel del mar \n",
    "\n",
    "g    = cte_gravedad(z);\n",
    "peso = peso_objeto(m,z);\n",
    "nueva_altura = round(cambio_altura(p),1)\n",
    "\n",
    "\n",
    "print(f\"La cte de gravedad a altura de {z} metros es: {round(g,5)} m/s^2\")\n",
    "print(f\"El peso de una masa de {m} kg a altura de {z} metros es {round(peso,5)} N\")\n",
    "print(f\"El peso disminuye en {p}%  al aumentar la altitud del objeto a {nueva_altura} m\")\n"
   ]
  },
  {
   "cell_type": "markdown",
   "id": "a59786f4-86ac-4133-b070-62f9457c444e",
   "metadata": {},
   "source": [
    "# Problema 1-55:\n",
    "\n",
    "El peso de los cuerpos puede cambiar ligeramente de un lugar a otro, como resultado de la variación de aceleración gravitacional $g$ con la elevación. Tome en cuenta  esta variación, use la relación del programa 1-31 para determinar el peso de una persona de 65 kg  en las siguientes localidades:\n",
    "\n",
    "   - 0 m - nivel del mar\n",
    "   - 1610 m - Denver\n",
    "   - 8848 m - Punta del monte Everest\n"
   ]
  },
  {
   "cell_type": "code",
   "execution_count": 144,
   "id": "a4556b97-510f-462d-8c27-b3b92913083c",
   "metadata": {},
   "outputs": [],
   "source": [
    "# Definir las constantes del problema \n",
    "masa_sujeto = 65;   # [kg] masa sujeto a nivel del mar \n",
    "z_mar       = 0; # [m] altitud Denver\n",
    "z_denver    = 1610; # [m] altitud Denver\n",
    "z_everest   = 8848; # [m] altitud punta del Monte Everest \n",
    "\n"
   ]
  },
  {
   "cell_type": "code",
   "execution_count": 146,
   "id": "07120dd7-756f-475c-965c-22362ee7be36",
   "metadata": {},
   "outputs": [
    {
     "name": "stdout",
     "output_type": "stream",
     "text": [
      "Un sujeto de 65 kg a 0 metros(Nivel del mar), pesa 637.5 N\n",
      "Un sujeto de 65 kg a 1610 metros(Denver), pesa 637.1 N\n",
      "Un sujeto de 65 kg a 8848 metros(Monte Everest),(pesa 635.5 N\n"
     ]
    }
   ],
   "source": [
    "# Imprimer resultados de cambio de peso al aumentar altitud \n",
    "\n",
    "peso_mar = round(peso_objeto(masa_sujeto,z_mar),1)\n",
    "peso_denver = round(peso_objeto(masa_sujeto,z_denver),1)\n",
    "peso_everest = round(peso_objeto(masa_sujeto,z_everest),1)\n",
    "\n",
    "print(f\"Un sujeto de {masa_sujeto} kg a {z_mar} metros(Nivel del mar), pesa {peso_mar} N\")\n",
    "print(f\"Un sujeto de {masa_sujeto} kg a {z_denver} metros(Denver), pesa {peso_denver} N\")\n",
    "print(f\"Un sujeto de {masa_sujeto} kg a {z_everest} metros(Monte Everest),(pesa {peso_everest} N\")"
   ]
  },
  {
   "cell_type": "code",
   "execution_count": null,
   "id": "0dc82d7b-ace8-44fb-8c34-1f0bf336f828",
   "metadata": {},
   "outputs": [],
   "source": []
  }
 ],
 "metadata": {
  "kernelspec": {
   "display_name": "Python 3",
   "language": "python",
   "name": "python3"
  },
  "language_info": {
   "codemirror_mode": {
    "name": "ipython",
    "version": 3
   },
   "file_extension": ".py",
   "mimetype": "text/x-python",
   "name": "python",
   "nbconvert_exporter": "python",
   "pygments_lexer": "ipython3",
   "version": "3.8.8"
  }
 },
 "nbformat": 4,
 "nbformat_minor": 5
}

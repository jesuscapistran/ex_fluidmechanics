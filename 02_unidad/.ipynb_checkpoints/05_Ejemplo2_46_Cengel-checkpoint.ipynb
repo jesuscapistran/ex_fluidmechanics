{
 "cells": [
  {
   "cell_type": "markdown",
   "metadata": {
    "id": "eqlti_tPdtX0"
   },
   "source": [
    "# 2-46 Compresibilidad\n",
    "**Fecha:** 28/09/2021, **Alumno:** Nombre y Apellido \n",
    "\n",
    "La densidad del agua de mar en una superficie libre donde la presión es de $98$ kPa es aproximadamente 1030 $kg/m^3$. Tome el **modulo de elasticidad de volumen del agua de mar** como $2.34 \\times 10^9 $ N/m y expresando la variación de la presión con la profunidad $z$ como $dP = \\rho g dz $. Determine la densidad a una produndidad de 2500 m.\n"
   ]
  },
  {
   "cell_type": "markdown",
   "metadata": {
    "id": "r2u6jq6HfXPF"
   },
   "source": [
    "# Datos \n",
    "\n",
    "- Fluido: agua de mar\n",
    "- $P_o = 98$ [kPa]\n",
    "- $\\rho_o = 1030 \\: [kg/m^3]$\n",
    "- $k = 2.34 \\times 10^9 \\: [N/m]$ \n",
    "- $z_o = 0 $ [m]\n",
    "- $z =  2500$ [m]\n",
    "- $\\rho = $ (Variable a calcular ) "
   ]
  },
  {
   "cell_type": "code",
   "execution_count": null,
   "metadata": {
    "id": "LTRwyxoMgnaT"
   },
   "outputs": [],
   "source": []
  },
  {
   "cell_type": "markdown",
   "metadata": {
    "id": "Ga2HTQkTgtij"
   },
   "source": [
    "## Ecuación relacionada (Temperatura constante)\n",
    "\n",
    "$$ k = \\rho \\frac{\\partial P}{\\partial \\rho} $$\n",
    "\n",
    "\n",
    "## Sustitutir \n",
    "\n",
    "$$ \\partial P = \\rho g \\partial z $$\n",
    "\n",
    "##  k en función de z\n",
    "\n",
    "$$ k = \\rho \\frac{\\rho g}{\\partial \\rho} dz  = \\rho^2 g \\frac{\\partial z}{\\partial \\rho}$$\n",
    "\n",
    "## Reacomodamos \n",
    "\n",
    "$$ \\frac{1}{\\rho^2} \\partial \\rho = \\frac{g}{k} \\partial z $$\n",
    "\n",
    "## Integral y evaluar (Corregir)\n",
    "\n",
    "$$ - (\\frac{1}{\\rho_o} - \\frac{1}{\\rho}) = \\frac{g}{k} (z)$$ \n",
    "\n",
    "$$ \\frac{1}{\\rho} - \\frac{1}{\\rho_o} = \\frac{g}{k} (z)$$ \n",
    "\n",
    "\n",
    "$$ \\frac{1}{\\rho} = \\frac{1}{\\rho_o}  + \\frac{g}{k} (z)$$ \n",
    "\n",
    "\n",
    "\n",
    "$$ \\rho = \\frac{1}{\\frac{1}{\\rho_o}  + \\frac{g z}{k}} $$ \n",
    "\n",
    "\n",
    "\n"
   ]
  },
  {
   "cell_type": "markdown",
   "metadata": {},
   "source": [
    "## Integrar (Corrección) \n",
    "$$ \\int_{\\rho_o}^{\\rho_f} \\frac{1}{\\rho^2} d\\rho  = \\int_{z_o}^{z_f} \\frac{g}{k} dz$$\n",
    "\n",
    "$$ \\frac{-1}{\\rho_f} - \\frac{-1}{\\rho_o} = \\frac{gz_f}{k} - \\frac{gz_o}{k}$$\n",
    "\n",
    "$$ \\frac{1}{\\rho_o} - \\frac{1}{\\rho_f}  = \\frac{gz}{k}$$\n",
    "$$ \\frac{1}{\\rho_o} -  \\frac{gz}{k}  = \\frac{1}{\\rho_f} $$\n",
    "\n",
    "$$  \\rho_f = \\frac{1}{\\frac{1}{\\rho_o} -  \\frac{gz}{k}}$$"
   ]
  },
  {
   "cell_type": "code",
   "execution_count": null,
   "metadata": {
    "colab": {
     "base_uri": "https://localhost:8080/",
     "height": 54
    },
    "id": "l0vuIIRbivcb",
    "outputId": "3c0eeeb8-37e4-4274-d86d-1ed0a51a1792"
   },
   "outputs": [
    {
     "data": {
      "image/png": "[encoded data removed]",
      "text/latex": [
       "$\\displaystyle - \\frac{1}{\\rho}$"
      ],
      "text/plain": [
       "-1 \n",
       "───\n",
       " ρ "
      ]
     },
     "execution_count": 5,
     "metadata": {},
     "output_type": "execute_result"
    }
   ],
   "source": [
    "#Importr modulo para realizar integración \n",
    "# URL: https://www.youtube.com/watch?v=yTDmlAaYx10 \n",
    "\n",
    "from sympy import *\n",
    "init_printing()\n",
    "\n",
    "#Declara variables a integrar \n",
    "rho = symbols(\"rho\") \n",
    "\n",
    "# Define las funciones a evaluar (integrar) \n",
    "f1 = 1/rho**2\n",
    "\n",
    "# Ejemplo integral symbolica \n",
    "integrate(f1,rho)\n",
    "\n",
    "# Evaluar "
   ]
  },
  {
   "cell_type": "code",
   "execution_count": 2,
   "metadata": {
    "id": "et3zxIZvcBLf"
   },
   "outputs": [],
   "source": [
    "#Declarar constantes y variables \n",
    "rho_o = 1030   #[kg/m^3]\n",
    "g     = 9.8107 #[m/s^2]\n",
    "k     = 2.34e9 #[N/m]\n",
    "z_f   = 2500   #[m]"
   ]
  },
  {
   "cell_type": "code",
   "execution_count": 6,
   "metadata": {
    "id": "TxhryqOWc4ce"
   },
   "outputs": [],
   "source": [
    "# Función que calcula densidad a distancia z (rho_f)\n"
   ]
  },
  {
   "cell_type": "code",
   "execution_count": 7,
   "metadata": {
    "id": "izxIw6MadD7J"
   },
   "outputs": [
    {
     "data": {
      "text/plain": [
       "1041.2"
      ]
     },
     "execution_count": 7,
     "metadata": {},
     "output_type": "execute_result"
    }
   ],
   "source": [
    "# Realizar cálculos \n",
    "\n",
    "rho_f = 1/((1/rho_o)-(g*z_f/k))\n",
    "round(rho_f,1)"
   ]
  },
  {
   "cell_type": "code",
   "execution_count": 8,
   "metadata": {
    "id": "NS-hgQZldHsl"
   },
   "outputs": [
    {
     "name": "stdout",
     "output_type": "stream",
     "text": [
      "La densidad del agua a 2500 m de profunidad es: 1041.2 kg/m^3\n"
     ]
    }
   ],
   "source": [
    "# Presentar resultados [kg/m3]\n",
    "print(f'La densidad del agua a 2500 m de profunidad es: {round(rho_f,1)} kg/m^3')"
   ]
  },
  {
   "cell_type": "code",
   "execution_count": null,
   "metadata": {
    "id": "LVpivbazqw6M"
   },
   "outputs": [],
   "source": []
  }
 ],
 "metadata": {
  "colab": {
   "collapsed_sections": [],
   "name": "2-46_Compresibilidad.ipynb",
   "provenance": []
  },
  "kernelspec": {
   "display_name": "Python 3",
   "language": "python",
   "name": "python3"
  },
  "language_info": {
   "codemirror_mode": {
    "name": "ipython",
    "version": 3
   },
   "file_extension": ".py",
   "mimetype": "text/x-python",
   "name": "python",
   "nbconvert_exporter": "python",
   "pygments_lexer": "ipython3",
   "version": "3.8.8"
  }
 },
 "nbformat": 4,
 "nbformat_minor": 2
}

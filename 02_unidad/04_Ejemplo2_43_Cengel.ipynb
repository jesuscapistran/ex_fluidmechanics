{
  "nbformat": 4,
  "nbformat_minor": 0,
  "metadata": {
    "colab": {
      "name": "2-43_compresibilidad.ipynb",
      "provenance": [],
      "collapsed_sections": []
    },
    "kernelspec": {
      "name": "python3",
      "display_name": "Python 3"
    },
    "language_info": {
      "name": "python"
    }
  },
  "cells": [
    {
      "cell_type": "markdown",
      "metadata": {
        "id": "gmI6g6wqZVYR"
      },
      "source": [
        "# 2-43 Exp. Volumetrica\n",
        "**Fecha:** 28/09/2021, **Alumno:** Nombre y Apellido \n",
        "\n",
        "Se enfría un líquido saturado  de refrigerante 134a a 10 ºC  hasta 0 ºC, a presión constante. Con los datos del coeficiente de expansión volumétrica determine el cambio en la densidad del refrigerante. \n"
      ]
    },
    {
      "cell_type": "markdown",
      "metadata": {
        "id": "JbuR_Pv3aT9r"
      },
      "source": [
        "# Datos \n",
        "\n",
        "- Fluido: Refrigerante 134a (liquido saturado)\n",
        "- T1 = 10 ºC\n",
        "- T2 =  0 ºC\n",
        "- $\\beta(T_{prom})$ = (revisar Tabla A-4 , p.949) \n",
        "- $\\Delta \\rho$ = ?"
      ]
    },
    {
      "cell_type": "markdown",
      "metadata": {
        "id": "JLLBoKjcb-qB"
      },
      "source": [
        "## Ecuación relacionada (Presión constante) \n",
        "\n",
        "$$ \\beta = -1/\\rho \\frac{\\Delta \\rho}{\\Delta T} $$\n",
        "\n",
        "## Despejar $\\Delta \\rho$: \n",
        "\n",
        "$$ \\Delta \\rho = - \\rho \\beta \\Delta T$$\n",
        "\n"
      ]
    },
    {
      "cell_type": "code",
      "metadata": {
        "id": "et3zxIZvcBLf"
      },
      "source": [
        "#Declarar constantes y variables \n",
        "rho = 1261       # [kg/m3]  Liquido saturado a 10 ºC\n",
        "beta = 0.00269   # [1/K] Valor promedio entre 0 y 10 ºC \n",
        "T1 = 10 + 273.15 #[ºC] - > Kelvin \n",
        "T2 = 0 + 273.15  #[ºC] - > Kelvin "
      ],
      "execution_count": null,
      "outputs": []
    },
    {
      "cell_type": "code",
      "metadata": {
        "colab": {
          "base_uri": "https://localhost:8080/"
        },
        "id": "TxhryqOWc4ce",
        "outputId": "227bb3c7-9954-4b1e-f0d1-9958a83407ff"
      },
      "source": [
        "# Función que calcula el cambio de densidad (d_rho)\n",
        "\n",
        "delta_rho = - rho*beta*(T2-T1)\n",
        "round(delta_rho,1)"
      ],
      "execution_count": null,
      "outputs": [
        {
          "output_type": "execute_result",
          "data": {
            "text/plain": [
              "33.9"
            ]
          },
          "metadata": {},
          "execution_count": 8
        }
      ]
    },
    {
      "cell_type": "code",
      "metadata": {
        "id": "izxIw6MadD7J"
      },
      "source": [
        "# Realizar cálculos "
      ],
      "execution_count": null,
      "outputs": []
    },
    {
      "cell_type": "code",
      "metadata": {
        "colab": {
          "base_uri": "https://localhost:8080/"
        },
        "id": "NS-hgQZldHsl",
        "outputId": "3d16029a-3a64-44c7-d29c-eb33e006d8e7"
      },
      "source": [
        "# Presentar resultados [kg/m3]\n",
        "print(f\"El cambio de la densidad del refrigerante es: {round(delta_rho,1)} [kg/m3] \")"
      ],
      "execution_count": null,
      "outputs": [
        {
          "output_type": "stream",
          "name": "stdout",
          "text": [
            "El cambio de la densidad del refrigerante es: 33.9 [kg/m3] \n"
          ]
        }
      ]
    },
    {
      "cell_type": "code",
      "metadata": {
        "id": "YNMhb1Vfdget"
      },
      "source": [
        ""
      ],
      "execution_count": null,
      "outputs": []
    }
  ]
}
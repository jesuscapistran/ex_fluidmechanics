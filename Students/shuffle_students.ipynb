{
 "cells": [
  {
   "cell_type": "code",
   "execution_count": 1,
   "metadata": {},
   "outputs": [],
   "source": [
    "import pandas as pd"
   ]
  },
  {
   "cell_type": "code",
   "execution_count": 2,
   "metadata": {
    "pycharm": {
     "name": "#%%\n"
    }
   },
   "outputs": [],
   "source": [
    "students_df = pd.read_csv(r'students.csv')\n",
    "#print(students_df)"
   ]
  },
  {
   "cell_type": "code",
   "execution_count": 3,
   "metadata": {
    "pycharm": {
     "name": "#%%\n"
    }
   },
   "outputs": [],
   "source": [
    "student_list = pd.DataFrame(students_df, columns=[\"Apellidos\", \"Nombre\"])\n",
    "#print(student_list)"
   ]
  },
  {
   "cell_type": "code",
   "execution_count": 4,
   "metadata": {
    "pycharm": {
     "name": "#%%\n"
    }
   },
   "outputs": [
    {
     "name": "stdout",
     "output_type": "stream",
     "text": [
      "             Apellidos     Nombre\n",
      "26     VARGUEZ CORDOVA    WILLIAM\n",
      "20      MEJIA ALVARADO  NATANAHEL\n",
      "27       NUNEZ PERALTA     YARELI\n",
      "23      ECHANIZ VARELA    RODRIGO\n",
      "22        CORONA PEREZ       PAUL\n",
      "9        MONARCA PEREZ   JAQUELIN\n",
      "5         ELIAS ROMERO      ELIAS\n",
      "15      CARDOZO ROMERO      KARLA\n",
      "16     BAUTISTA FLORES       LUIS\n",
      "21       MONTIEL MUNOZ     OLIVER\n",
      "18  QUINTERO VELAZQUEZ   MERCEDES\n",
      "13     SANCHEZ SANCHEZ      JULIO\n",
      "25         CUEVAS CRUZ    SILVANO\n",
      "12       CARINO GARCIA       JOSE\n"
     ]
    }
   ],
   "source": [
    "student = student_list.sample(14)\n",
    "print(student)"
   ]
  },
  {
   "cell_type": "code",
   "execution_count": null,
   "metadata": {},
   "outputs": [],
   "source": []
  }
 ],
 "metadata": {
  "kernelspec": {
   "display_name": "Python 3",
   "language": "python",
   "name": "python3"
  },
  "language_info": {
   "codemirror_mode": {
    "name": "ipython",
    "version": 3
   },
   "file_extension": ".py",
   "mimetype": "text/x-python",
   "name": "python",
   "nbconvert_exporter": "python",
   "pygments_lexer": "ipython3",
   "version": "3.8.8"
  }
 },
 "nbformat": 4,
 "nbformat_minor": 1
}

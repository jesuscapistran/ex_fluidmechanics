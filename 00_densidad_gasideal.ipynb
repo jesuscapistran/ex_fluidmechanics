{
  "nbformat": 4,
  "nbformat_minor": 2,
  "metadata": {
    "colab": {
      "name": "00-densidad_gasideal.ipynb",
      "provenance": [],
      "collapsed_sections": [],
      "include_colab_link": true
    },
    "kernelspec": {
      "name": "python3",
      "display_name": "Python 3.8.3 64-bit ('base': conda)"
    },
    "language_info": {
      "name": "python",
      "version": "3.8.3",
      "mimetype": "text/x-python",
      "codemirror_mode": {
        "name": "ipython",
        "version": 3
      },
      "pygments_lexer": "ipython3",
      "nbconvert_exporter": "python",
      "file_extension": ".py"
    },
    "interpreter": {
      "hash": "dca0ade3e726a953b501b15e8e990130d2b7799f14cfd9f4271676035ebe5511"
    }
  },
  "cells": [
    {
      "cell_type": "markdown",
      "source": [
        "<a href=\"https://colab.research.google.com/github/jesuscapistran/ex_fluidmechanics/blob/main/00_densidad_gasideal.ipynb\" target=\"_parent\"><img src=\"https://colab.research.google.com/assets/colab-badge.svg\" alt=\"Open In Colab\"/></a>"
      ],
      "metadata": {
        "id": "view-in-github",
        "colab_type": "text"
      }
    },
    {
      "cell_type": "markdown",
      "source": [
        "# Problema 2_1: Densidad y densidad relativa\n",
        "\n",
        "Determine la densidad, la gravedad específica y la masa de aire en un cuarto cuyas dimensiones son 4 m x 5 m x 6 m a una presión de 100 kPa y temperatura de 25 ºC.\n",
        "\n",
        "---\n",
        "\n",
        "\n",
        "La ecuación de estado más sencilla y conocida para sustancias en la fase gaseosa es la ecuación de estado del gas ideal y se expresa de la siguiente forma:\n",
        "\n",
        "> Ec. Estado en terminos de volumen especifico y/o densidad)\n",
        "$$Pv = RT $$ \n",
        "$$ P = \\rho RT$$\n",
        "\n",
        "- P = Presión absoluta\n",
        "- $v$ = volumen específico\n",
        "- T = temperatura absoluta (K)\n",
        "- $\\rho$ = densidad\n",
        "- R = constante del gas  (Aire, $R = 0.287 \\: \\frac{kPa\\: m^3}{kg\\:K})$"
      ],
      "metadata": {
        "id": "lpchOplpPRPU"
      }
    },
    {
      "cell_type": "code",
      "execution_count": 1,
      "source": [
        "# Definir constantes del problema\n",
        "P = 100;  # kPas\n",
        "R = 0.287 # kPas·m3/kg·K\n",
        "T = 25    # ºC  "
      ],
      "outputs": [],
      "metadata": {
        "id": "Qnmtp5kvPmYX"
      }
    },
    {
      "cell_type": "code",
      "execution_count": null,
      "source": [],
      "outputs": [],
      "metadata": {}
    },
    {
      "cell_type": "markdown",
      "source": [
        "\n",
        "**¿Cuál es la densidad del arire ? **\n",
        "\n",
        "*   $\\rho = m/V$ (Densidad)\n",
        "*   $P = \\rho RT$ (Ecuación de estado del gas ideal) \n",
        "\n",
        "Recuerda latemperatura absoluta debe estar en grados kelvin [K] para utilizar la ecuación de estado. [texto del vínculo](https://)\n",
        "\n"
      ],
      "metadata": {
        "id": "_epa5LHdRJ70"
      }
    },
    {
      "cell_type": "code",
      "execution_count": 2,
      "source": [
        "# Convertir de grados celcius a grados kelvin \n",
        "T_abs = T +273.15;  # Conversión "
      ],
      "outputs": [],
      "metadata": {
        "id": "SqdZ8cqoRCry"
      }
    },
    {
      "cell_type": "code",
      "execution_count": 3,
      "source": [
        "# ¿Cual es la densidad del aire? \n",
        "\n",
        "densidad = P/(R*T_abs) # No olvides revisar las unidades en tu cuaderno\n",
        "densidad = round(densidad,2) #¿Cuales son las unidades de densidad en este ejemplo? \n",
        "densidad"
      ],
      "outputs": [
        {
          "output_type": "execute_result",
          "data": {
            "text/plain": [
              "1.17"
            ]
          },
          "metadata": {},
          "execution_count": 3
        }
      ],
      "metadata": {
        "colab": {
          "base_uri": "https://localhost:8080/"
        },
        "id": "OthqPZD6QtBf",
        "outputId": "7051af77-d35f-403e-9967-5dbf44690e6c"
      }
    },
    {
      "cell_type": "markdown",
      "source": [
        "**¿Cuál es la densidad relativa (Gravedad especifica)?**\n",
        "$GE = \\rho / \\rho_{H_2O}$\n",
        "\n",
        "\n",
        "\n",
        "*   $\\rho_{H_2O}  = 1000 \\: kg/m^3$\n",
        "*   $\\rho_{H_2O}  =    1 \\: kg/L$\n",
        "*   $\\rho_{H_2O}  =    1 \\: g/cm^3$\n",
        "\n",
        "\n"
      ],
      "metadata": {
        "id": "iOO0uce_TiDV"
      }
    },
    {
      "cell_type": "code",
      "execution_count": 4,
      "source": [
        "# ¿Cuál es la densidad relativa del aire? \n",
        "densidad_H2O = 1000; #[kg/m3] Definimos la constante de densidad de agua. \n",
        "\n",
        "densidad_rel = densidad/densidad_H2O; \n",
        "densidad_rel"
      ],
      "outputs": [
        {
          "output_type": "execute_result",
          "data": {
            "text/plain": [
              "0.00117"
            ]
          },
          "metadata": {},
          "execution_count": 4
        }
      ],
      "metadata": {
        "colab": {
          "base_uri": "https://localhost:8080/"
        },
        "id": "ZeWPchrHVVxS",
        "outputId": "65638f9b-e2d7-4abc-b635-5b60d337bfcd"
      }
    },
    {
      "cell_type": "markdown",
      "source": [
        "**¿Cuál es la masa de aire dentro del cuarto?**\n",
        "\n",
        "\n",
        "\n",
        "*   $\\rho = m/V$   (densidad)\n",
        "*   $m = \\rho V $  ( masa)\n",
        "\n",
        "\n",
        "\n"
      ],
      "metadata": {
        "id": "5yojV8aWWIu4"
      }
    },
    {
      "cell_type": "code",
      "execution_count": 5,
      "source": [
        "#¿Cuál es la masa de aire? \n",
        "volumen = 4*5*6; # Volumen del cuarto [m3]. \n",
        "masa = densidad*volumen ; #Formula para determinar masas de aire\n",
        "masa = round(masa,0)\n",
        "masa"
      ],
      "outputs": [
        {
          "output_type": "execute_result",
          "data": {
            "text/plain": [
              "140.0"
            ]
          },
          "metadata": {},
          "execution_count": 5
        }
      ],
      "metadata": {
        "colab": {
          "base_uri": "https://localhost:8080/"
        },
        "id": "XmmMvUy_W1uo",
        "outputId": "36ec455a-2b5f-4434-9cfe-5edfc78b39b3"
      }
    },
    {
      "cell_type": "code",
      "execution_count": 6,
      "source": [
        "masa"
      ],
      "outputs": [
        {
          "output_type": "execute_result",
          "data": {
            "text/plain": [
              "140.0"
            ]
          },
          "metadata": {},
          "execution_count": 6
        }
      ],
      "metadata": {}
    },
    {
      "cell_type": "code",
      "execution_count": null,
      "source": [],
      "outputs": [],
      "metadata": {}
    }
  ]
}